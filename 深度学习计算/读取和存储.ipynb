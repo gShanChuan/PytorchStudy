{
 "metadata": {
  "language_info": {
   "codemirror_mode": {
    "name": "ipython",
    "version": 3
   },
   "file_extension": ".py",
   "mimetype": "text/x-python",
   "name": "python",
   "nbconvert_exporter": "python",
   "pygments_lexer": "ipython3",
   "version": "3.7.9-final"
  },
  "orig_nbformat": 2,
  "kernelspec": {
   "name": "pytorch1.6",
   "display_name": "Python [conda env:pytorch1.6]"
  }
 },
 "nbformat": 4,
 "nbformat_minor": 2,
 "cells": [
  {
   "source": [
    "# 读写Tensor "
   ],
   "cell_type": "markdown",
   "metadata": {}
  },
  {
   "source": [
    "直接使用save和load函数分被存储和读取Tensor。  \n",
    "save使用pickle将对象进行序列化，然后将序列化的对象保存到disk  \n",
    "load使用pickle unpickle将pickle的对象反序列化为内存"
   ],
   "cell_type": "markdown",
   "metadata": {}
  },
  {
   "cell_type": "code",
   "execution_count": 3,
   "metadata": {},
   "outputs": [],
   "source": [
    "import torch\n",
    "from torch import nn\n",
    "\n",
    "x=torch.ones(3)\n",
    "torch.save(x,'x.pt')\n"
   ]
  },
  {
   "source": [
    "读取"
   ],
   "cell_type": "markdown",
   "metadata": {}
  },
  {
   "cell_type": "code",
   "execution_count": 7,
   "metadata": {},
   "outputs": [
    {
     "output_type": "stream",
     "name": "stdout",
     "text": [
      "tensor([1., 1., 1.])\n"
     ]
    }
   ],
   "source": [
    "x1=torch.load('x.pt')\n",
    "print(x1)"
   ]
  },
  {
   "source": [
    "还可以存储一个Tensor列表并读回内存"
   ],
   "cell_type": "markdown",
   "metadata": {}
  },
  {
   "cell_type": "code",
   "execution_count": 8,
   "metadata": {},
   "outputs": [
    {
     "output_type": "stream",
     "name": "stdout",
     "text": [
      "[tensor([1., 1., 1.]), tensor([0., 0., 0., 0.])]\n"
     ]
    }
   ],
   "source": [
    "y=torch.zeros(4)\n",
    "torch.save([x,y],'xy.pt')\n",
    "xyList=torch.load('xy.pt')\n",
    "print(xyList)"
   ]
  },
  {
   "source": [
    "还可以存储映射到Tensor的字典"
   ],
   "cell_type": "markdown",
   "metadata": {}
  },
  {
   "cell_type": "code",
   "execution_count": 11,
   "metadata": {},
   "outputs": [
    {
     "output_type": "stream",
     "name": "stdout",
     "text": [
      "{1: tensor([1., 1., 1.]), 2: tensor([0., 0., 0., 0.])}\n"
     ]
    }
   ],
   "source": [
    "torch.save({1:x,2:y},'xyDice.pt')\n",
    "xy=torch.load('xyDice.pt')\n",
    "print(xy)"
   ]
  },
  {
   "source": [
    "# 读写模型"
   ],
   "cell_type": "markdown",
   "metadata": {}
  },
  {
   "source": [
    "在Pytorch中，state_dict是一个从参数名称映射到参数Tensor的字典对象。"
   ],
   "cell_type": "markdown",
   "metadata": {}
  },
  {
   "cell_type": "code",
   "execution_count": 13,
   "metadata": {},
   "outputs": [
    {
     "output_type": "execute_result",
     "data": {
      "text/plain": [
       "OrderedDict([('hidden.weight',\n",
       "              tensor([[-0.1544,  0.5383,  0.0085],\n",
       "                      [-0.0711, -0.0046,  0.1314]])),\n",
       "             ('hidden.bias', tensor([-0.5334, -0.0652])),\n",
       "             ('output.weight', tensor([[0.4758, 0.1777]])),\n",
       "             ('output.bias', tensor([-0.7061]))])"
      ]
     },
     "metadata": {},
     "execution_count": 13
    }
   ],
   "source": [
    "class MLP(nn.Module):\n",
    "    def __init__(self):\n",
    "        super().__init__()\n",
    "        self.hidden = nn.Linear(3,2)\n",
    "        self.act=nn.ReLU()\n",
    "        self.output=nn.Linear(2,1)\n",
    "    def forward(self,x):\n",
    "        a=self.act(self.hidden(x))\n",
    "        return self.output(a)\n",
    "net=MLP()\n",
    "net.state_dict()"
   ]
  },
  {
   "source": [
    "注意只有具有可学习参数的层才有state_dict中的条目"
   ],
   "cell_type": "markdown",
   "metadata": {}
  },
  {
   "source": [
    "optim中也有一个state_dict，其中包含关于优化器以及所使用的超参数的信息"
   ],
   "cell_type": "markdown",
   "metadata": {}
  },
  {
   "cell_type": "code",
   "execution_count": 14,
   "metadata": {},
   "outputs": [
    {
     "output_type": "execute_result",
     "data": {
      "text/plain": [
       "{'state': {},\n",
       " 'param_groups': [{'lr': 0.01,\n",
       "   'momentum': 0.9,\n",
       "   'dampening': 0,\n",
       "   'weight_decay': 0,\n",
       "   'nesterov': False,\n",
       "   'params': [0, 1, 2, 3]}]}"
      ]
     },
     "metadata": {},
     "execution_count": 14
    }
   ],
   "source": [
    "optimzer=torch.optim.SGD(net.parameters(),lr=0.01,momentum=0.9)\n",
    "optimzer.state_dict()"
   ]
  },
  {
   "source": [
    "* 保存加载模型\n",
    "    * 仅保存和加载模型参数\n",
    "    * 保存和加载整个模型"
   ],
   "cell_type": "markdown",
   "metadata": {}
  },
  {
   "source": [
    "保存和加载state_dict"
   ],
   "cell_type": "markdown",
   "metadata": {}
  },
  {
   "source": [
    "保存"
   ],
   "cell_type": "markdown",
   "metadata": {}
  },
  {
   "source": [
    "```torch.save(model.state_dict(),path)```"
   ],
   "cell_type": "markdown",
   "metadata": {}
  },
  {
   "source": [
    "加载"
   ],
   "cell_type": "markdown",
   "metadata": {}
  },
  {
   "source": [
    "```\n",
    "model=TheModel()\n",
    "model.load_state_dict(torch.load(path))\n",
    "```"
   ],
   "cell_type": "markdown",
   "metadata": {}
  },
  {
   "source": [
    "保存和加载整个模型"
   ],
   "cell_type": "markdown",
   "metadata": {}
  },
  {
   "source": [
    "保存"
   ],
   "cell_type": "markdown",
   "metadata": {}
  },
  {
   "source": [
    "```\n",
    "torch.save(model,path)\n",
    "```"
   ],
   "cell_type": "markdown",
   "metadata": {}
  },
  {
   "source": [
    "加载"
   ],
   "cell_type": "markdown",
   "metadata": {}
  },
  {
   "source": [
    "```\n",
    "model = torch.load(path)\n",
    "```"
   ],
   "cell_type": "markdown",
   "metadata": {}
  },
  {
   "cell_type": "code",
   "execution_count": null,
   "metadata": {},
   "outputs": [],
   "source": []
  }
 ]
}