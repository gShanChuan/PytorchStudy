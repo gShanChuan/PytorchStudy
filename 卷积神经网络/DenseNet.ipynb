{
 "metadata": {
  "language_info": {
   "codemirror_mode": {
    "name": "ipython",
    "version": 3
   },
   "file_extension": ".py",
   "mimetype": "text/x-python",
   "name": "python",
   "nbconvert_exporter": "python",
   "pygments_lexer": "ipython3",
   "version": "3.7.9-final"
  },
  "orig_nbformat": 2,
  "kernelspec": {
   "name": "python3",
   "display_name": "Python 3"
  }
 },
 "nbformat": 4,
 "nbformat_minor": 2,
 "cells": [
  {
   "source": [
    "ResNet的主要区别在于，DenseNet里模块B的输出不是像ResNet那样和模块A的输出相加，而是在通道维上连结。"
   ],
   "cell_type": "markdown",
   "metadata": {}
  },
  {
   "source": [
    "这样模块A的输出可以直接传入模块B后面的层。在这个设计里，模块A直接跟模块B后面的所有层连接在了一起。这也是它被称为“稠密连接”的原因。"
   ],
   "cell_type": "markdown",
   "metadata": {}
  },
  {
   "source": [
    "# 稠密块"
   ],
   "cell_type": "markdown",
   "metadata": {}
  },
  {
   "cell_type": "code",
   "execution_count": 1,
   "metadata": {},
   "outputs": [],
   "source": [
    "import torch\n",
    "from torch import nn\n",
    "import torch.nn.functional as F\n",
    "\n",
    "def convBlock(inChannels,outChannels):\n",
    "    return nn.Sequential(\n",
    "        nn.BatchNorm2d(inChannels),\n",
    "        nn.ReLU(),\n",
    "        nn.Conv2d(inChannels,outChannels,kernel_size=3, padding=1)\n",
    "    )"
   ]
  },
  {
   "cell_type": "code",
   "execution_count": 2,
   "metadata": {},
   "outputs": [],
   "source": [
    "class DenseBlock(nn.Module):\n",
    "    def __init__(self,numConvs,inChannels,outChannels):\n",
    "        super().__init__()\n",
    "        net=[]\n",
    "        for i in range(numConvs):\n",
    "            inC=inChannels+i*outChannels\n",
    "            net.append(convBlock(inC,outChannels))\n",
    "        self.net = nn.ModuleList(net)\n",
    "        self.outChannels=inChannels+numConvs*outChannels\n",
    "    def forward(self,x):\n",
    "        for block in self.net:\n",
    "            y=block(x)\n",
    "            x=torch.cat((x,y),dim=1)\n",
    "        return x"
   ]
  },
  {
   "source": [
    "下面的例子中，我们定义了一个有2个输出通道的为10的卷积块。使用通道数为3的输入时，我们会得到通道数为3+2*10=23的输出"
   ],
   "cell_type": "markdown",
   "metadata": {}
  },
  {
   "cell_type": "code",
   "execution_count": 3,
   "metadata": {},
   "outputs": [
    {
     "output_type": "execute_result",
     "data": {
      "text/plain": [
       "torch.Size([4, 23, 8, 8])"
      ]
     },
     "metadata": {},
     "execution_count": 3
    }
   ],
   "source": [
    "blk=DenseBlock(2, 3, 10)\n",
    "x=torch.rand(4, 3, 8, 8)\n",
    "y=blk(x)\n",
    "y.shape"
   ]
  },
  {
   "source": [
    "# 过渡层"
   ],
   "cell_type": "markdown",
   "metadata": {}
  },
  {
   "source": [
    "由于每个稠密快都会带来通道数的增加，使用过多则会带来过于复杂的模型。  \n",
    "过渡层用来控制模型复杂度。通过1*1卷积层来减小通道数，并使用歩幅为2的平均池化层减半高和宽，从而进一步降低模型复杂度。"
   ],
   "cell_type": "markdown",
   "metadata": {}
  },
  {
   "cell_type": "code",
   "execution_count": 4,
   "metadata": {},
   "outputs": [],
   "source": [
    "def transitionBlock(inChannels,outChannels):\n",
    "    block=nn.Sequential(\n",
    "        nn.BatchNorm2d(inChannels),\n",
    "        nn.ReLU(),\n",
    "        nn.Conv2d(inChannels,outChannels,1),\n",
    "        nn.AvgPool2d(2,2)\n",
    "    )\n",
    "    return block"
   ]
  },
  {
   "cell_type": "code",
   "execution_count": 5,
   "metadata": {},
   "outputs": [
    {
     "output_type": "execute_result",
     "data": {
      "text/plain": [
       "torch.Size([4, 10, 4, 4])"
      ]
     },
     "metadata": {},
     "execution_count": 5
    }
   ],
   "source": [
    "blk=transitionBlock(23,10)\n",
    "blk(y).shape"
   ]
  },
  {
   "source": [
    "# DenseNet模型"
   ],
   "cell_type": "markdown",
   "metadata": {}
  },
  {
   "cell_type": "code",
   "execution_count": 6,
   "metadata": {},
   "outputs": [],
   "source": [
    "net=nn.Sequential(\n",
    "    nn.Conv2d(1,64,7,2,3),\n",
    "    nn.BatchNorm2d(64),\n",
    "    nn.ReLU(),\n",
    "    nn.MaxPool2d(3,2,1)\n",
    ")"
   ]
  },
  {
   "source": [
    "DenseNet使用的是4个稠密块。  \n",
    "稠密块之间使用过渡层减小高和宽，并减半通道数"
   ],
   "cell_type": "markdown",
   "metadata": {}
  },
  {
   "cell_type": "code",
   "execution_count": 7,
   "metadata": {},
   "outputs": [],
   "source": [
    "numChannels,growthRate=64,32\n",
    "numConvsInDenseBlock=[4,4,4,4]\n",
    "\n",
    "for i in range(len(numConvsInDenseBlock)):\n",
    "    denseBlock = DenseBlock(numConvsInDenseBlock[i],numChannels,growthRate)\n",
    "    net.add_module('DenseBlock_%d' % i,denseBlock)\n",
    "    # 上一个稠密块的输出通道数\n",
    "    numChannels=denseBlock.outChannels\n",
    "    # 在稠密块之间加入通道数减半的过渡层\n",
    "    if i != len(numConvsInDenseBlock) - 1:\n",
    "        net.add_module('transitionBlock_%d' % i,transitionBlock(numChannels,numChannels//2))\n",
    "        numChannels = numChannels//2"
   ]
  },
  {
   "source": [
    "最后接上全局池化层和全连接层来输出"
   ],
   "cell_type": "markdown",
   "metadata": {}
  },
  {
   "cell_type": "code",
   "execution_count": 8,
   "metadata": {},
   "outputs": [],
   "source": [
    "class GlobalAvgPool2d(nn.Module):\n",
    "    def __init__(self):\n",
    "        super().__init__()\n",
    "    def forward(self,x):\n",
    "        return torch.nn.functional.adaptive_avg_pool2d(x, (1,1))\n",
    "\n",
    "net.add_module('BN',nn.BatchNorm2d(numChannels))\n",
    "net.add_module('relu',nn.ReLU())\n",
    "net.add_module('GlobalAvgPool2d',GlobalAvgPool2d())\n",
    "net.add_module(\"fc\", nn.Sequential(nn.Flatten(), nn.Linear(numChannels, 10))) "
   ]
  },
  {
   "cell_type": "code",
   "execution_count": 9,
   "metadata": {},
   "outputs": [
    {
     "output_type": "stream",
     "name": "stdout",
     "text": [
      "0 \t torch.Size([1, 64, 48, 48])\n1 \t torch.Size([1, 64, 48, 48])\n2 \t torch.Size([1, 64, 48, 48])\n3 \t torch.Size([1, 64, 24, 24])\nDenseBlock_0 \t torch.Size([1, 192, 24, 24])\ntransitionBlock_0 \t torch.Size([1, 96, 12, 12])\nDenseBlock_1 \t torch.Size([1, 224, 12, 12])\ntransitionBlock_1 \t torch.Size([1, 112, 6, 6])\nDenseBlock_2 \t torch.Size([1, 240, 6, 6])\ntransitionBlock_2 \t torch.Size([1, 120, 3, 3])\nDenseBlock_3 \t torch.Size([1, 248, 3, 3])\nBN \t torch.Size([1, 248, 3, 3])\nrelu \t torch.Size([1, 248, 3, 3])\nGlobalAvgPool2d \t torch.Size([1, 248, 1, 1])\nfc \t torch.Size([1, 10])\n"
     ]
    }
   ],
   "source": [
    "x = torch.rand((1, 1, 96, 96))\n",
    "for name, layer in net.named_children():\n",
    "    x = layer(x)\n",
    "    print(name, '\\t', x.shape)"
   ]
  },
  {
   "source": [
    "# 获取数据"
   ],
   "cell_type": "markdown",
   "metadata": {}
  },
  {
   "cell_type": "code",
   "execution_count": 10,
   "metadata": {},
   "outputs": [],
   "source": [
    "import torchvision\n",
    "\n",
    "transform = torchvision.transforms.Compose(\n",
    "    [torchvision.transforms.Resize(size=96),\n",
    "    torchvision.transforms.ToTensor()]\n",
    ")\n",
    "\n",
    "#获取数据集\n",
    "mnist_train = torchvision.datasets.FashionMNIST(root='~/Datasets/FashionMNIST', train=True, download=True, transform=transform)\n",
    "mnist_test = torchvision.datasets.FashionMNIST(root='~/Datasets/FashionMNIST', train=False, download=True, transform=transform)\n",
    "#读取数据集\n",
    "batchSize=128\n",
    "trainIter=torch.utils.data.DataLoader(mnist_train,batch_size=batchSize,shuffle=True,num_workers=8)\n",
    "testIter=torch.utils.data.DataLoader(mnist_test,batch_size=batchSize,shuffle=True,num_workers=8)"
   ]
  },
  {
   "source": [
    "# 评价"
   ],
   "cell_type": "markdown",
   "metadata": {}
  },
  {
   "cell_type": "code",
   "execution_count": 11,
   "metadata": {},
   "outputs": [],
   "source": [
    "def evaluate_accuracy(data_iter, net):\n",
    "    device=torch.device('cuda')\n",
    "    acc_sum, n = 0.0, 0\n",
    "    with torch.no_grad():\n",
    "        net.eval() # 评估模式\n",
    "        for X, y in data_iter:\n",
    "            acc_sum += (net(X.to(device)).argmax(dim=1) == y.to(device)).float().sum().item()\n",
    "            n += y.shape[0]\n",
    "        net.train() # 改回训练模式 \n",
    "    return acc_sum / n"
   ]
  },
  {
   "source": [
    "# 训练"
   ],
   "cell_type": "markdown",
   "metadata": {}
  },
  {
   "cell_type": "code",
   "execution_count": 12,
   "metadata": {},
   "outputs": [
    {
     "output_type": "stream",
     "name": "stdout",
     "text": [
      "0 0.003327920101583004 0.8473333333333334 0.8121\n",
      "1 0.0021146094039082527 0.8996666666666666 0.8697\n",
      "2 0.001800314412266016 0.91495 0.8578\n",
      "3 0.0016219776230553787 0.92335 0.909\n",
      "4 0.0014782136036703983 0.92945 0.9179\n",
      "5 0.001370954975237449 0.9348166666666666 0.9208\n",
      "6 0.0012583134833723307 0.9390166666666667 0.9279\n",
      "7 0.001189739281994601 0.9441333333333334 0.9171\n",
      "8 0.0010990946197882295 0.94725 0.9127\n",
      "9 0.001010560538309316 0.9519833333333333 0.925\n"
     ]
    }
   ],
   "source": [
    "lr,epochsNum = 0.001,10\n",
    "net=net.cuda()\n",
    "loss=torch.nn.CrossEntropyLoss()\n",
    "optimzer=torch.optim.Adam(net.parameters(),lr)\n",
    "\n",
    "for epoch in range(epochsNum):\n",
    "    train_l_sum=n=train_acc_sum=0\n",
    "    for x,y in trainIter:\n",
    "        x=x.cuda()\n",
    "        y=y.cuda()\n",
    "        yP=net(x)\n",
    "        l=loss(yP,y)\n",
    "        l.backward()\n",
    "        optimzer.step()\n",
    "        optimzer.zero_grad()\n",
    "        train_l_sum += l.item()\n",
    "        train_acc_sum += (yP.argmax(dim=1) == y).sum().item()\n",
    "        n +=y.shape[0]\n",
    "    print(epoch,train_l_sum/n,train_acc_sum/n,evaluate_accuracy(testIter,net))"
   ]
  }
 ]
}