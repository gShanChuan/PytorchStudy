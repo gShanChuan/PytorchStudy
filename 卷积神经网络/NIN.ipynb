{
 "metadata": {
  "language_info": {
   "codemirror_mode": {
    "name": "ipython",
    "version": 3
   },
   "file_extension": ".py",
   "mimetype": "text/x-python",
   "name": "python",
   "nbconvert_exporter": "python",
   "pygments_lexer": "ipython3",
   "version": "3.7.9-final"
  },
  "orig_nbformat": 2,
  "kernelspec": {
   "name": "Python 3.7.9 64-bit ('pytorch': conda)",
   "display_name": "Python 3.7.9 64-bit ('pytorch': conda)",
   "metadata": {
    "interpreter": {
     "hash": "0707ab57a3f9cf43f3400869693fd2dfcef3fb2a292e08aca37804df915cf11c"
    }
   }
  }
 },
 "nbformat": 4,
 "nbformat_minor": 2,
 "cells": [
  {
   "source": [
    "# NIN块"
   ],
   "cell_type": "markdown",
   "metadata": {}
  },
  {
   "source": [
    "NIN块是NIN中的基础块，他由一个卷积层加两个充当全连接层的1*1卷积层串联而成，其中第一个卷积层的超参数可以自行设置，而第二和第三个卷积层的超参数一般是固定的。"
   ],
   "cell_type": "markdown",
   "metadata": {}
  },
  {
   "cell_type": "code",
   "execution_count": 1,
   "metadata": {},
   "outputs": [],
   "source": [
    "import torch\n",
    "from torch import nn,optim\n",
    "\n",
    "def ninBlock(inChannels,outChannels,kernelSize,stride,padding):\n",
    "\n",
    "    block = nn.Sequential(\n",
    "        nn.Conv2d(inChannels,outChannels,kernelSize,stride,padding),\n",
    "        nn.ReLU(),\n",
    "        nn.Conv2d(outChannels,outChannels,1),\n",
    "        nn.ReLU(),\n",
    "        nn.Conv2d(outChannels,outChannels,1),\n",
    "        nn.ReLU()\n",
    "    )\n",
    "\n",
    "    return block"
   ]
  },
  {
   "source": [
    "# NIN模型"
   ],
   "cell_type": "markdown",
   "metadata": {}
  },
  {
   "source": [
    "NIN使用卷积窗口形状分别为11*11、5*5、3*3的卷积层，相应的输出通道数也与AlexNet中的一直。每个后面接一个歩幅为2、窗口大小为3*3的最大池化层。  \n",
    "NIN去掉了AlexNet最后的3个全连接层，使用输出通道等于标签类别数的NIN块，然后使用全局平均池化对每个通道中的元素求平均并直接用于分类。"
   ],
   "cell_type": "markdown",
   "metadata": {}
  },
  {
   "cell_type": "code",
   "execution_count": 2,
   "metadata": {},
   "outputs": [
    {
     "output_type": "stream",
     "name": "stdout",
     "text": [
      "0 torch.Size([1, 96, 54, 54])\n1 torch.Size([1, 96, 26, 26])\n2 torch.Size([1, 256, 26, 26])\n3 torch.Size([1, 256, 12, 12])\n4 torch.Size([1, 384, 12, 12])\n5 torch.Size([1, 384, 5, 5])\n6 torch.Size([1, 384, 5, 5])\n7 torch.Size([1, 10, 5, 5])\n8 torch.Size([1, 10, 1, 1])\n9 torch.Size([1, 10])\n"
     ]
    }
   ],
   "source": [
    "class GlobalAvgPool2d(nn.Module):\n",
    "    def __init__(self):\n",
    "        super().__init__()\n",
    "    def forward(self,x):\n",
    "        return torch.nn.functional.adaptive_avg_pool2d(x, (1,1))\n",
    "\n",
    "net=nn.Sequential(\n",
    "        ninBlock(1,96,11,4,0),\n",
    "        nn.MaxPool2d(3,2),\n",
    "        ninBlock(96,256,5,1,2),\n",
    "        nn.MaxPool2d(3,2),\n",
    "        ninBlock(256,384,3,1,1),\n",
    "        nn.MaxPool2d(3,2),\n",
    "        nn.Dropout(0.5),\n",
    "        ninBlock(384,10,3,1,1),\n",
    "        GlobalAvgPool2d(),\n",
    "        nn.Flatten()\n",
    "        )\n",
    "x=torch.rand(1,1,224,224)\n",
    "for name,blk in net.named_children():\n",
    "    x=blk(x)\n",
    "    print(name,x.shape)\n",
    "        "
   ]
  },
  {
   "source": [
    "# 读取数据集"
   ],
   "cell_type": "markdown",
   "metadata": {}
  },
  {
   "cell_type": "code",
   "execution_count": 3,
   "metadata": {},
   "outputs": [],
   "source": [
    "import torchvision\n",
    "\n",
    "transform = torchvision.transforms.Compose(\n",
    "    [torchvision.transforms.Resize(size=224),\n",
    "    torchvision.transforms.ToTensor()]\n",
    ")\n",
    "\n",
    "#获取数据集\n",
    "mnist_train = torchvision.datasets.FashionMNIST(root='~/Datasets/FashionMNIST', train=True, download=True, transform=transform)\n",
    "mnist_test = torchvision.datasets.FashionMNIST(root='~/Datasets/FashionMNIST', train=False, download=True, transform=transform)\n",
    "#读取数据集\n",
    "batchSize=128\n",
    "trainIter=torch.utils.data.DataLoader(mnist_train,batch_size=batchSize,shuffle=True,num_workers=8)\n",
    "testIter=torch.utils.data.DataLoader(mnist_test,batch_size=batchSize,shuffle=True,num_workers=8)"
   ]
  },
  {
   "source": [
    "# 评价\n"
   ],
   "cell_type": "markdown",
   "metadata": {}
  },
  {
   "cell_type": "code",
   "execution_count": 4,
   "metadata": {},
   "outputs": [],
   "source": [
    "def evaluate_accuracy(data_iter, net):\n",
    "    device=torch.device('cuda')\n",
    "    acc_sum, n = 0.0, 0\n",
    "    with torch.no_grad():\n",
    "        net.eval() # 评估模式\n",
    "        for X, y in data_iter:\n",
    "            acc_sum += (net(X.to(device)).argmax(dim=1) == y.to(device)).float().sum().item()\n",
    "            n += y.shape[0]\n",
    "        net.train() # 改回训练模式 \n",
    "    return acc_sum / n"
   ]
  },
  {
   "source": [
    "# 训练"
   ],
   "cell_type": "markdown",
   "metadata": {}
  },
  {
   "cell_type": "code",
   "execution_count": 5,
   "metadata": {},
   "outputs": [
    {
     "output_type": "stream",
     "name": "stdout",
     "text": [
      "0 0.010261349797248841 0.5344333333333333 0.7542\n",
      "1 0.0045598106841246286 0.7843333333333333 0.8074\n",
      "2 0.0037446690648794173 0.8207666666666666 0.8339\n",
      "3 0.0034412108908096948 0.8354333333333334 0.8483\n",
      "4 0.0032475295327603817 0.8451333333333333 0.8451\n"
     ]
    }
   ],
   "source": [
    "lr,epochsNum = 0.002,5\n",
    "net=net.cuda()\n",
    "loss=torch.nn.CrossEntropyLoss()\n",
    "optimzer=torch.optim.Adam(net.parameters(),lr)\n",
    "\n",
    "for epoch in range(epochsNum):\n",
    "    train_l_sum=n=train_acc_sum=0\n",
    "    for x,y in trainIter:\n",
    "        x=x.cuda()\n",
    "        y=y.cuda()\n",
    "        yP=net(x)\n",
    "        l=loss(yP,y)\n",
    "        l.backward() \n",
    "        optimzer.step()\n",
    "        optimzer.zero_grad()\n",
    "        train_l_sum += l.item()\n",
    "        train_acc_sum += (yP.argmax(dim=1) == y).sum().item()\n",
    "        n +=y.shape[0]\n",
    "    print(epoch,train_l_sum/n,train_acc_sum/n,evaluate_accuracy(testIter,net))"
   ]
  },
  {
   "cell_type": "code",
   "execution_count": null,
   "metadata": {},
   "outputs": [],
   "source": []
  }
 ]
}