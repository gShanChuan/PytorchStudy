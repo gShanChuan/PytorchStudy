{
 "metadata": {
  "language_info": {
   "codemirror_mode": {
    "name": "ipython",
    "version": 3
   },
   "file_extension": ".py",
   "mimetype": "text/x-python",
   "name": "python",
   "nbconvert_exporter": "python",
   "pygments_lexer": "ipython3",
   "version": "3.7.9-final"
  },
  "orig_nbformat": 2,
  "kernelspec": {
   "name": "pytorch1.6",
   "display_name": "Python [conda env:pytorch1.6]"
  }
 },
 "nbformat": 4,
 "nbformat_minor": 2,
 "cells": [
  {
   "source": [
    "LeNet模型"
   ],
   "cell_type": "markdown",
   "metadata": {}
  },
  {
   "cell_type": "code",
   "execution_count": 28,
   "metadata": {},
   "outputs": [
    {
     "output_type": "stream",
     "name": "stdout",
     "text": [
      "leNet(\n  (conv): Sequential(\n    (0): Conv2d(1, 6, kernel_size=(5, 5), stride=(1, 1))\n    (1): Sigmoid()\n    (2): MaxPool2d(kernel_size=2, stride=2, padding=0, dilation=1, ceil_mode=False)\n    (3): Conv2d(6, 16, kernel_size=(5, 5), stride=(1, 1))\n    (4): Sigmoid()\n    (5): MaxPool2d(kernel_size=2, stride=2, padding=0, dilation=1, ceil_mode=False)\n  )\n  (fc): Sequential(\n    (0): Linear(in_features=256, out_features=120, bias=True)\n    (1): Sigmoid()\n    (2): Linear(in_features=120, out_features=84, bias=True)\n    (3): Sigmoid()\n    (4): Linear(in_features=84, out_features=10, bias=True)\n  )\n)\n"
     ]
    }
   ],
   "source": [
    "import torch\n",
    "from torch import nn,optim\n",
    "\n",
    "class leNet(nn.Module):\n",
    "    def __init__(self):\n",
    "        super().__init__()\n",
    "        self.conv = nn.Sequential(\n",
    "            nn.Conv2d(1,6,5),\n",
    "            nn.Sigmoid(),\n",
    "            nn.MaxPool2d(2,2),\n",
    "            nn.Conv2d(6,16,5),\n",
    "            nn.Sigmoid(),\n",
    "            nn.MaxPool2d(2,2)\n",
    "        )\n",
    "        self.fc=nn.Sequential(\n",
    "            nn.Linear(16*4*4,120),\n",
    "            nn.Sigmoid(),\n",
    "            nn.Linear(120,84),\n",
    "            nn.Sigmoid(),\n",
    "            nn.Linear(84,10)\n",
    "        )\n",
    "    def forward(self,img):\n",
    "        feature=self.conv(img)\n",
    "        output=self.fc(feature.view(img.shape[0],-1))\n",
    "        return output\n",
    "net=leNet()\n",
    "print(net)"
   ]
  },
  {
   "source": [
    "获取数据"
   ],
   "cell_type": "markdown",
   "metadata": {}
  },
  {
   "cell_type": "code",
   "execution_count": 29,
   "metadata": {},
   "outputs": [],
   "source": [
    "import torchvision\n",
    "from torchvision import transforms\n",
    "#获取数据集\n",
    "mnist_train = torchvision.datasets.FashionMNIST(root='~/Datasets/FashionMNIST', train=True, download=True, transform=transforms.ToTensor())\n",
    "mnist_test = torchvision.datasets.FashionMNIST(root='~/Datasets/FashionMNIST', train=False, download=True, transform=transforms.ToTensor())\n",
    "#读取数据集\n",
    "batchSize=256\n",
    "trainIter=torch.utils.data.DataLoader(mnist_train,batch_size=batchSize,shuffle=True,num_workers=8)\n",
    "testIter=torch.utils.data.DataLoader(mnist_test,batch_size=batchSize,shuffle=True,num_workers=8)"
   ]
  },
  {
   "source": [
    "评价"
   ],
   "cell_type": "markdown",
   "metadata": {}
  },
  {
   "cell_type": "code",
   "execution_count": 30,
   "metadata": {},
   "outputs": [],
   "source": [
    "def evaluate_accuracy(data_iter, net):\n",
    "    device=torch.device('cuda')\n",
    "    acc_sum, n = 0.0, 0\n",
    "    with torch.no_grad():\n",
    "        net.eval() # 评估模式\n",
    "        for X, y in data_iter:\n",
    "            acc_sum += (net(X.to(device)).argmax(dim=1) == y.to(device)).float().sum().item()\n",
    "            n += y.shape[0]\n",
    "        net.train() # 改回训练模式 \n",
    "    return acc_sum / n"
   ]
  },
  {
   "source": [
    "训练"
   ],
   "cell_type": "markdown",
   "metadata": {}
  },
  {
   "cell_type": "code",
   "execution_count": 31,
   "metadata": {},
   "outputs": [
    {
     "output_type": "stream",
     "name": "stdout",
     "text": [
      "0 0.0072719895362854 0.3091333333333333 0.5766\n",
      "1 0.003682773479819298 0.6391 0.692\n",
      "2 0.00293666110932827 0.7208333333333333 0.7352\n",
      "3 0.002610256784160932 0.7451833333333333 0.7499\n",
      "4 0.002403641369442145 0.7610166666666667 0.7597\n",
      "5 0.002246731857955456 0.7755666666666666 0.7752\n",
      "6 0.0021298543353875476 0.7870166666666667 0.786\n",
      "7 0.0020331645419200263 0.7976166666666666 0.7954\n",
      "8 0.0019433643167217573 0.8082 0.8036\n",
      "9 0.0018690082530180613 0.81865 0.8082\n"
     ]
    }
   ],
   "source": [
    "lr,epochsNum = 0.001,10\n",
    "net=net.cuda()\n",
    "loss=torch.nn.CrossEntropyLoss()\n",
    "optimzer=torch.optim.Adam(net.parameters(),lr)\n",
    "\n",
    "for epoch in range(epochsNum):\n",
    "    train_l_sum=n=train_acc_sum=0\n",
    "    for x,y in trainIter:\n",
    "        x=x.cuda()\n",
    "        y=y.cuda()\n",
    "        yP=net(x)\n",
    "        l=loss(yP,y)\n",
    "        l.backward()\n",
    "        optimzer.step()\n",
    "        optimzer.zero_grad()\n",
    "        train_l_sum += l.item()\n",
    "        train_acc_sum += (yP.argmax(dim=1) == y).sum().item()\n",
    "        n +=y.shape[0]\n",
    "    print(epoch,train_l_sum/n,train_acc_sum/n,evaluate_accuracy(testIter,net))\n"
   ]
  }
 ]
}