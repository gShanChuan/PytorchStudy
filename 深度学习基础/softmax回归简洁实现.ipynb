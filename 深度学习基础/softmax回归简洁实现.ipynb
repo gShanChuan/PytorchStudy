{
 "metadata": {
  "language_info": {
   "codemirror_mode": {
    "name": "ipython",
    "version": 3
   },
   "file_extension": ".py",
   "mimetype": "text/x-python",
   "name": "python",
   "nbconvert_exporter": "python",
   "pygments_lexer": "ipython3",
   "version": "3.7.9-final"
  },
  "orig_nbformat": 2,
  "kernelspec": {
   "name": "Python 3.7.9 64-bit ('pytorch': conda)",
   "display_name": "Python 3.7.9 64-bit ('pytorch': conda)",
   "metadata": {
    "interpreter": {
     "hash": "0707ab57a3f9cf43f3400869693fd2dfcef3fb2a292e08aca37804df915cf11c"
    }
   }
  }
 },
 "nbformat": 4,
 "nbformat_minor": 2,
 "cells": [
  {
   "source": [
    "# 导入包及模块"
   ],
   "cell_type": "markdown",
   "metadata": {}
  },
  {
   "cell_type": "code",
   "execution_count": 64,
   "metadata": {},
   "outputs": [],
   "source": [
    "import torch\n",
    "import torch.nn as nn\n",
    "from torch.nn import init\n",
    "import torchvision\n",
    "import numpy as np\n",
    "import sys\n",
    "import torchvision.transforms as transforms"
   ]
  },
  {
   "source": [
    "# 获取和读取数据"
   ],
   "cell_type": "markdown",
   "metadata": {}
  },
  {
   "cell_type": "code",
   "execution_count": 65,
   "metadata": {},
   "outputs": [],
   "source": [
    "#获取数据集\n",
    "mnist_train = torchvision.datasets.FashionMNIST(root='~/Datasets/FashionMNIST', train=True, download=True, transform=transforms.ToTensor())\n",
    "mnist_test = torchvision.datasets.FashionMNIST(root='~/Datasets/FashionMNIST', train=False, download=True, transform=transforms.ToTensor())\n",
    "#读取数据集\n",
    "batchSize=256\n",
    "trainIter=torch.utils.data.DataLoader(mnist_train,batch_size=batchSize,shuffle=True,num_workers=8)\n",
    "testIter=torch.utils.data.DataLoader(mnist_test,batch_size=batchSize,shuffle=True,num_workers=8)"
   ]
  },
  {
   "source": [
    "# 定义及初始化模型"
   ],
   "cell_type": "markdown",
   "metadata": {}
  },
  {
   "source": [
    "定义模型"
   ],
   "cell_type": "markdown",
   "metadata": {}
  },
  {
   "cell_type": "code",
   "execution_count": 66,
   "metadata": {},
   "outputs": [
    {
     "output_type": "stream",
     "name": "stdout",
     "text": [
      "LinearNet(\n  (Flatten): FlattenLayer()\n  (linear): Linear(in_features=784, out_features=10, bias=True)\n)\n"
     ]
    }
   ],
   "source": [
    "numInputs = 784\n",
    "numOutputs = 10\n",
    "\n",
    "#展平\n",
    "class FlattenLayer(nn.Module):\n",
    "    def __init__(self):\n",
    "        super().__init__()\n",
    "    def forward(self,x):\n",
    "        return x.view(x.shape[0],-1)\n",
    "class LinearNet(nn.Module):\n",
    "    def __init__(self,numInputs,numOutputs):\n",
    "        super().__init__()\n",
    "        self.Flatten = FlattenLayer()\n",
    "        self.linear = nn.Linear(numInputs,numOutputs)\n",
    "    def forward(self,x):\n",
    "        x=self.Flatten(x)\n",
    "        return self.linear(x)\n",
    "net=LinearNet(numInputs,numOutputs)\n",
    "print(net) "
   ]
  },
  {
   "source": [
    "初始化参数"
   ],
   "cell_type": "markdown",
   "metadata": {}
  },
  {
   "cell_type": "code",
   "execution_count": 67,
   "metadata": {},
   "outputs": [
    {
     "output_type": "execute_result",
     "data": {
      "text/plain": [
       "Parameter containing:\n",
       "tensor([0., 0., 0., 0., 0., 0., 0., 0., 0., 0.], requires_grad=True)"
      ]
     },
     "metadata": {},
     "execution_count": 67
    }
   ],
   "source": [
    "init.normal_(net.linear.weight,mean=0,std=0.01)\n",
    "init.constant_(net.linear.bias,val=0)"
   ]
  },
  {
   "source": [
    "# 定义损失函数"
   ],
   "cell_type": "markdown",
   "metadata": {}
  },
  {
   "cell_type": "code",
   "execution_count": 68,
   "metadata": {},
   "outputs": [],
   "source": [
    "loss = nn.CrossEntropyLoss()"
   ]
  },
  {
   "source": [
    "# 定义优化算法"
   ],
   "cell_type": "markdown",
   "metadata": {}
  },
  {
   "cell_type": "code",
   "execution_count": 69,
   "metadata": {},
   "outputs": [],
   "source": [
    "optimizer = torch.optim.SGD(net.parameters(),lr=0.1)"
   ]
  },
  {
   "source": [
    "# 计算分类准确率"
   ],
   "cell_type": "markdown",
   "metadata": {}
  },
  {
   "cell_type": "code",
   "execution_count": 70,
   "metadata": {},
   "outputs": [],
   "source": [
    "def evaluateAccuary(dataIter,net):\n",
    "    accSum=0\n",
    "    n=0\n",
    "    for x,y in dataIter:\n",
    "        accSum+=(net(x).argmax(dim=1)==y).float().sum().item()\n",
    "        n+=y.shape[0]\n",
    "    return accSum/n"
   ]
  },
  {
   "source": [
    "# 训练模型"
   ],
   "cell_type": "markdown",
   "metadata": {}
  },
  {
   "cell_type": "code",
   "execution_count": 71,
   "metadata": {},
   "outputs": [
    {
     "output_type": "stream",
     "name": "stdout",
     "text": [
      "0 0.0030784469604492187 0.7909\n",
      "1 0.0022374160766601564 0.8029\n",
      "2 0.002058941014607747 0.8133\n",
      "3 0.001964560953776042 0.8125\n",
      "4 0.001901702880859375 0.8253\n"
     ]
    }
   ],
   "source": [
    "epochsNum=5\n",
    "\n",
    "for epoch in range(epochsNum):\n",
    "    train_l_sum=0\n",
    "    n=0\n",
    "    for x,y in trainIter:\n",
    "        yP=net(x)\n",
    "        l=loss(yP,y).sum()\n",
    "        l.backward()\n",
    "        optimizer.step()\n",
    "        optimizer.zero_grad()\n",
    "        train_l_sum+=l\n",
    "        n+=y.shape[0]\n",
    "    print(epoch,train_l_sum.item()/n,evaluateAccuary(testIter,net))\n"
   ]
  }
 ]
}