{
 "metadata": {
  "language_info": {
   "codemirror_mode": {
    "name": "ipython",
    "version": 3
   },
   "file_extension": ".py",
   "mimetype": "text/x-python",
   "name": "python",
   "nbconvert_exporter": "python",
   "pygments_lexer": "ipython3",
   "version": "3.7.9-final"
  },
  "orig_nbformat": 2,
  "kernelspec": {
   "name": "pytorch1.6",
   "display_name": "Python [conda env:pytorch1.6]"
  }
 },
 "nbformat": 4,
 "nbformat_minor": 2,
 "cells": [
  {
   "source": [
    "# 导入包及模块"
   ],
   "cell_type": "markdown",
   "metadata": {}
  },
  {
   "cell_type": "code",
   "execution_count": 62,
   "metadata": {},
   "outputs": [],
   "source": [
    "import torch\n",
    "import numpy as np\n",
    "import torchvision\n",
    "import torchvision.transforms as transforms"
   ]
  },
  {
   "source": [
    "# 获取和读取数据"
   ],
   "cell_type": "markdown",
   "metadata": {}
  },
  {
   "cell_type": "code",
   "execution_count": 63,
   "metadata": {},
   "outputs": [],
   "source": [
    "#获取数据集\n",
    "mnist_train = torchvision.datasets.FashionMNIST(root='~/Datasets/FashionMNIST', train=True, download=True, transform=transforms.ToTensor())\n",
    "mnist_test = torchvision.datasets.FashionMNIST(root='~/Datasets/FashionMNIST', train=False, download=True, transform=transforms.ToTensor())\n",
    "#读取数据集\n",
    "batchSize=256\n",
    "trainIter=torch.utils.data.DataLoader(mnist_train,batch_size=batchSize,shuffle=True,num_workers=8)\n",
    "testIter=torch.utils.data.DataLoader(mnist_test,batch_size=batchSize,shuffle=True,num_workers=8)"
   ]
  },
  {
   "source": [
    "# 定义模型参数"
   ],
   "cell_type": "markdown",
   "metadata": {}
  },
  {
   "cell_type": "code",
   "execution_count": 64,
   "metadata": {},
   "outputs": [],
   "source": [
    "numInput=784\n",
    "numOutput=10\n",
    "numHidden=256\n",
    "w1=torch.tensor(np.random.normal(0,0.01,(numInput,numHidden)),requires_grad=True,dtype=torch.float)\n",
    "b1=torch.zeros(1,numHidden,requires_grad=True,dtype=torch.float)\n",
    "w2=torch.tensor(np.random.normal(0,0.01,(numHidden,numOutput)),requires_grad=True,dtype=torch.float)\n",
    "b2=torch.zeros(1,numOutput,requires_grad=True,dtype=torch.float)"
   ]
  },
  {
   "source": [
    "# 定义激活函数"
   ],
   "cell_type": "markdown",
   "metadata": {}
  },
  {
   "cell_type": "code",
   "execution_count": 65,
   "metadata": {},
   "outputs": [
    {
     "output_type": "stream",
     "name": "stdout",
     "text": [
      "tensor([[1., 0.],\n        [2., 0.]])\n"
     ]
    }
   ],
   "source": [
    "def relu(x):\n",
    "    return torch.max(x,torch.tensor(0,dtype=torch.float))\n",
    "print(relu(torch.tensor([[1,-1],[2,-3]],dtype=torch.float)))"
   ]
  },
  {
   "source": [
    "# 定义模型"
   ],
   "cell_type": "markdown",
   "metadata": {}
  },
  {
   "cell_type": "code",
   "execution_count": 66,
   "metadata": {},
   "outputs": [],
   "source": [
    "def net(x):\n",
    "    x = x.view(-1,numInput)\n",
    "    x = relu(torch.mm(x,w1)+b1)\n",
    "    return torch.mm(x,w2)+b2"
   ]
  },
  {
   "source": [
    "# 定义损失函数"
   ],
   "cell_type": "markdown",
   "metadata": {}
  },
  {
   "cell_type": "code",
   "execution_count": 67,
   "metadata": {},
   "outputs": [],
   "source": [
    "loss = torch.nn.CrossEntropyLoss()"
   ]
  },
  {
   "source": [
    "# 定义优化算法"
   ],
   "cell_type": "markdown",
   "metadata": {}
  },
  {
   "cell_type": "code",
   "execution_count": 68,
   "metadata": {},
   "outputs": [],
   "source": [
    "def sgd(params,lr,batchSize):\n",
    "    for param in params:\n",
    "        param.data -= lr*param.grad / batchSize"
   ]
  },
  {
   "source": [
    "# 计算分类准确率"
   ],
   "cell_type": "markdown",
   "metadata": {}
  },
  {
   "cell_type": "code",
   "execution_count": 69,
   "metadata": {},
   "outputs": [],
   "source": [
    "def accuracy(yP,y):\n",
    "    return (yP.argmax(dim=1)==y).float().mean().item()\n",
    "\n",
    "def evaluateAccuary(dataIter,net):\n",
    "    accSum=0\n",
    "    n=0\n",
    "    for x,y in dataIter:\n",
    "        accSum+=(net(x).argmax(dim=1)==y).float().sum().item()\n",
    "        n+=y.shape[0]\n",
    "    return accSum/n"
   ]
  },
  {
   "source": [
    "# 训练模型"
   ],
   "cell_type": "markdown",
   "metadata": {}
  },
  {
   "cell_type": "code",
   "execution_count": 70,
   "metadata": {},
   "outputs": [
    {
     "output_type": "stream",
     "name": "stdout",
     "text": [
      "0 0.0030507914225260417 0.7764\n",
      "1 0.0018792550404866536 0.8157\n",
      "2 0.0016602760314941407 0.8466\n",
      "3 0.001525217056274414 0.8489\n",
      "4 0.0014431463877360026 0.8365\n"
     ]
    }
   ],
   "source": [
    "epochsNum=5\n",
    "#PyTorch的CrossEntropyLoss函数默认的是求平均，所以自己写的sgd反向梯度传播不需要在除以批次大小，所以学习率需要乘以批次\n",
    "lr=100\n",
    "\n",
    "for epoch in range(epochsNum):\n",
    "    train_l_sum=0\n",
    "    n=0\n",
    "    for x,y in trainIter:\n",
    "        yP=net(x)\n",
    "        l=loss(yP,y).sum()\n",
    "        l.backward()\n",
    "        sgd([w1,b1,w2,b2],lr,batchSize)\n",
    "        w1.grad.data.zero_()\n",
    "        b1.grad.data.zero_()\n",
    "        w2.grad.data.zero_()\n",
    "        b2.grad.data.zero_()\n",
    "        train_l_sum+=l\n",
    "        n+=y.shape[0]\n",
    "    print(epoch,train_l_sum.item()/n,evaluateAccuary(testIter,net))"
   ]
  }
 ]
}