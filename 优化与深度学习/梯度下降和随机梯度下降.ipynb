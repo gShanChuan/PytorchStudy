{
 "metadata": {
  "language_info": {
   "codemirror_mode": {
    "name": "ipython",
    "version": 3
   },
   "file_extension": ".py",
   "mimetype": "text/x-python",
   "name": "python",
   "nbconvert_exporter": "python",
   "pygments_lexer": "ipython3",
   "version": "3.7.9-final"
  },
  "orig_nbformat": 2,
  "kernelspec": {
   "name": "python3",
   "display_name": "Python 3"
  }
 },
 "nbformat": 4,
 "nbformat_minor": 2,
 "cells": [
  {
   "source": [
    "# 一维梯度下降"
   ],
   "cell_type": "markdown",
   "metadata": {}
  },
  {
   "source": [
    "假设连续可导的函数f:R->R的输入和输出都是标量。给定绝对值足够小的数ϵ，根据泰勒展开公式，我们得到以下近似：  \n",
    "<center>f(x+ϵ)=f(x)+ϵf′(x)</center>\n",
    "这里f′(x)是函数f在x处的梯度。一维函数的梯度是一个标量，也称导数。  \n"
   ],
   "cell_type": "markdown",
   "metadata": {}
  },
  {
   "source": [
    "接下来，找到一个常数η>0，使得∣ηf′(x)∣足够小，那么可以将ϵ替换为−ηf′(x)并得到    \n",
    "<center>f(x-ηf′(x))=f(x)-ηf′(x)f′(x)</center>  \n",
    "\n",
    "如果导数f′(x)不等于0，那么ηf′(x)f′(x)大于0，所以      \n",
    "<center>f(x-ηf′(x))<f(x)</center>"
   ],
   "cell_type": "markdown",
   "metadata": {}
  },
  {
   "source": [
    "这意味着，如果通过      \n",
    "<center>x -> x-ηf′(x)</center> \n",
    "\n",
    "来迭代x，函数f(x)的值可能会降低。"
   ],
   "cell_type": "markdown",
   "metadata": {}
  },
  {
   "cell_type": "code",
   "execution_count": null,
   "metadata": {},
   "outputs": [],
   "source": []
  }
 ]
}